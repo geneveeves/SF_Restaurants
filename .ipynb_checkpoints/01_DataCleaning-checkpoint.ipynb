{
 "cells": [
  {
   "cell_type": "markdown",
   "metadata": {},
   "source": [
    "# San Francisco - Registered Business Locations"
   ]
  },
  {
   "cell_type": "code",
   "execution_count": 89,
   "metadata": {},
   "outputs": [],
   "source": [
    "import numpy as np\n",
    "import pandas as pd\n",
    "import datetime as dt"
   ]
  },
  {
   "cell_type": "code",
   "execution_count": 26,
   "metadata": {},
   "outputs": [],
   "source": [
    "registered_businesses = pd.read_csv('Registered_Business_Locations_-_San_Francisco.csv')"
   ]
  },
  {
   "cell_type": "code",
   "execution_count": 69,
   "metadata": {
    "scrolled": true
   },
   "outputs": [
    {
     "name": "stdout",
     "output_type": "stream",
     "text": [
      "<class 'pandas.core.frame.DataFrame'>\n",
      "RangeIndex: 250047 entries, 0 to 250046\n",
      "Data columns (total 26 columns):\n",
      "Location Id                            250047 non-null object\n",
      "Business Account Number                250047 non-null int64\n",
      "Ownership Name                         250047 non-null object\n",
      "DBA Name                               250047 non-null object\n",
      "Street Address                         250043 non-null object\n",
      "City                                   249856 non-null object\n",
      "State                                  249431 non-null object\n",
      "Source Zipcode                         249782 non-null float64\n",
      "Business Start Date                    250047 non-null object\n",
      "Business End Date                      100363 non-null object\n",
      "Location Start Date                    250047 non-null object\n",
      "Location End Date                      125102 non-null object\n",
      "Mail Address                           14639 non-null object\n",
      "Mail City                              149654 non-null object\n",
      "Mail Zipcode                           149632 non-null object\n",
      "Mail State                             149630 non-null object\n",
      "NAICS Code                             155606 non-null object\n",
      "NAICS Code Description                 155606 non-null object\n",
      "Parking Tax                            250047 non-null bool\n",
      "Transient Occupancy Tax                250047 non-null bool\n",
      "LIC Code                               16642 non-null object\n",
      "LIC Code Description                   1367 non-null object\n",
      "Supervisor District                    147906 non-null float64\n",
      "Neighborhoods - Analysis Boundaries    147901 non-null object\n",
      "Business Corridor                      321 non-null object\n",
      "Business Location                      167333 non-null object\n",
      "dtypes: bool(2), float64(2), int64(1), object(21)\n",
      "memory usage: 46.3+ MB\n"
     ]
    }
   ],
   "source": [
    "registered_businesses.info()"
   ]
  },
  {
   "cell_type": "markdown",
   "metadata": {},
   "source": [
    "## Narrow list down to 'Food Services'"
   ]
  },
  {
   "cell_type": "code",
   "execution_count": 206,
   "metadata": {},
   "outputs": [
    {
     "name": "stdout",
     "output_type": "stream",
     "text": [
      "<class 'pandas.core.frame.DataFrame'>\n",
      "Int64Index: 12768 entries, 15 to 250025\n",
      "Data columns (total 26 columns):\n",
      "Location Id                            12768 non-null object\n",
      "Business Account Number                12768 non-null int64\n",
      "Ownership Name                         12768 non-null object\n",
      "DBA Name                               12768 non-null object\n",
      "Street Address                         12768 non-null object\n",
      "City                                   12768 non-null object\n",
      "State                                  12764 non-null object\n",
      "Source Zipcode                         12685 non-null float64\n",
      "Business Start Date                    12768 non-null object\n",
      "Business End Date                      3128 non-null object\n",
      "Location Start Date                    12768 non-null object\n",
      "Location End Date                      4818 non-null object\n",
      "Mail Address                           1319 non-null object\n",
      "Mail City                              9640 non-null object\n",
      "Mail Zipcode                           9640 non-null object\n",
      "Mail State                             9638 non-null object\n",
      "NAICS Code                             12768 non-null object\n",
      "NAICS Code Description                 12768 non-null object\n",
      "Parking Tax                            12768 non-null bool\n",
      "Transient Occupancy Tax                12768 non-null bool\n",
      "LIC Code                               6149 non-null object\n",
      "LIC Code Description                   616 non-null object\n",
      "Supervisor District                    6158 non-null float64\n",
      "Neighborhoods - Analysis Boundaries    6158 non-null object\n",
      "Business Corridor                      21 non-null object\n",
      "Business Location                      6879 non-null object\n",
      "dtypes: bool(2), float64(2), int64(1), object(21)\n",
      "memory usage: 2.5+ MB\n"
     ]
    }
   ],
   "source": [
    "#Keep only 'Food Services' businesses for Restaurant List\n",
    "restaurants = registered_businesses.loc[registered_businesses['NAICS Code Description'] == 'Food Services']\n",
    "restaurants.info()"
   ]
  },
  {
   "cell_type": "code",
   "execution_count": 207,
   "metadata": {},
   "outputs": [],
   "source": [
    "#Keep only select columns of \"Restaurants\"\n",
    "restaurants = restaurants[['DBA Name', 'Street Address', \n",
    "                           'City', 'State', 'Source Zipcode', \n",
    "                           'Business Start Date', 'Business End Date']]\n",
    "\n",
    "#Drop entries without a 'Source Zipcode' --> will need Zipcode for matching additional data\n",
    "restaurants.dropna(subset=['Source Zipcode'], inplace=True)"
   ]
  },
  {
   "cell_type": "code",
   "execution_count": 208,
   "metadata": {
    "scrolled": true
   },
   "outputs": [
    {
     "name": "stdout",
     "output_type": "stream",
     "text": [
      "<class 'pandas.core.frame.DataFrame'>\n",
      "Int64Index: 12685 entries, 15 to 250025\n",
      "Data columns (total 7 columns):\n",
      "DBA Name               12685 non-null object\n",
      "Street Address         12685 non-null object\n",
      "City                   12685 non-null object\n",
      "State                  12684 non-null object\n",
      "Source Zipcode         12685 non-null float64\n",
      "Business Start Date    12685 non-null object\n",
      "Business End Date      3122 non-null object\n",
      "dtypes: float64(1), object(6)\n",
      "memory usage: 792.8+ KB\n"
     ]
    }
   ],
   "source": [
    "restaurants.info()"
   ]
  },
  {
   "cell_type": "markdown",
   "metadata": {},
   "source": [
    "## Ensure restaurant located in San Francisco, CA"
   ]
  },
  {
   "cell_type": "code",
   "execution_count": 209,
   "metadata": {},
   "outputs": [],
   "source": [
    "# Keep only entries with 'State' == 'CA'\n",
    "restaurants = restaurants.loc[restaurants['State'] == 'CA']"
   ]
  },
  {
   "cell_type": "code",
   "execution_count": 210,
   "metadata": {},
   "outputs": [],
   "source": [
    "# Decide to ignore all entries for the ballpark (not really representative of what I'm looking for)"
   ]
  },
  {
   "cell_type": "code",
   "execution_count": 211,
   "metadata": {},
   "outputs": [],
   "source": [
    "# Write function to correct all misspellings of \"San Francisco\"\n",
    "def fix_city_names(city):\n",
    "    '''\n",
    "    Correct all misspellings of \"San Francisco\" in 'City' column\n",
    "    '''\n",
    "    list_of_misspellings = ['Sa Francisco', 'San', 'San  Francisco', \n",
    "                            'San Fancisco', 'San Farancisco', \n",
    "                            'San Fracisco', 'San Fracnisco', \n",
    "                            'San Francico', 'San Francicsco', \n",
    "                            'San Francicso', 'San Francis', \n",
    "                            'San Francisc', 'San Francisc0', \n",
    "                            'San Francisci', 'San Franciscio', \n",
    "                            'San Franciscoq', 'San Franciso', \n",
    "                            'San Francisoc', 'San Francsico', \n",
    "                            'San Francsisco', 'San Franicsco', \n",
    "                            'San Franisco', 'San Fransico', \n",
    "                            'San Fransisco', 'San Frascisco', \n",
    "                            'San Frnacisco', 'Sanfrancisco', \n",
    "                            'Sanfrancisoc', 'Sf', \n",
    "                            'Sn Francisco']\n",
    "    \n",
    "    if city in list_of_misspellings:\n",
    "        return 'San Francisco'\n",
    "    else:\n",
    "        return city"
   ]
  },
  {
   "cell_type": "code",
   "execution_count": 212,
   "metadata": {},
   "outputs": [],
   "source": [
    "restaurants['City'] = restaurants['City'].apply(fix_city_names)"
   ]
  },
  {
   "cell_type": "code",
   "execution_count": 213,
   "metadata": {},
   "outputs": [
    {
     "name": "stdout",
     "output_type": "stream",
     "text": [
      "<class 'pandas.core.frame.DataFrame'>\n",
      "Int64Index: 11848 entries, 15 to 250025\n",
      "Data columns (total 7 columns):\n",
      "DBA Name               11848 non-null object\n",
      "Street Address         11848 non-null object\n",
      "City                   11848 non-null object\n",
      "State                  11848 non-null object\n",
      "Source Zipcode         11848 non-null float64\n",
      "Business Start Date    11848 non-null object\n",
      "Business End Date      2902 non-null object\n",
      "dtypes: float64(1), object(6)\n",
      "memory usage: 740.5+ KB\n"
     ]
    }
   ],
   "source": [
    "# Keep only city listed as 'San Francisco'\n",
    "restaurants = restaurants.loc[restaurants['City'] == 'San Francisco']\n",
    "restaurants.info()"
   ]
  },
  {
   "cell_type": "code",
   "execution_count": 214,
   "metadata": {},
   "outputs": [],
   "source": [
    "# Drop 'City' and 'State' columns now that they've been standardized\n",
    "restaurants.drop(columns=['City', 'State'], inplace=True)"
   ]
  },
  {
   "cell_type": "markdown",
   "metadata": {},
   "source": [
    "## Convert dates from strings to datetime objects"
   ]
  },
  {
   "cell_type": "code",
   "execution_count": 215,
   "metadata": {},
   "outputs": [],
   "source": [
    "# Convert 'Business Start Date' and 'Business End Date' to datetime objects\n",
    "restaurants['Business Start Date'] = pd.to_datetime(restaurants['Business Start Date'], format='%m/%d/%Y')\n",
    "restaurants['Business End Date'] = pd.to_datetime(restaurants['Business End Date'], format='%m/%d/%Y')"
   ]
  },
  {
   "cell_type": "code",
   "execution_count": 216,
   "metadata": {},
   "outputs": [],
   "source": [
    "# Create column 'Years Open' for length of time restaurant was/has been in business\n",
    "#Closed restaurants:\n",
    "restaurants.loc[restaurants['Business End Date'].notnull(), 'Years Open'] = (\n",
    "    (restaurants['Business End Date'] - restaurants['Business Start Date']).dt.days)/365\n",
    "\n",
    "#Restaurants still in business:\n",
    "restaurants.loc[restaurants['Business End Date'].isnull(), 'Years Open'] = (\n",
    "    (pd.to_datetime('today') - restaurants['Business Start Date']).dt.days)/365"
   ]
  },
  {
   "cell_type": "code",
   "execution_count": 217,
   "metadata": {},
   "outputs": [],
   "source": [
    "##### Will drop out when modeling\n",
    "# Create column for year opened\n",
    "restaurants['Year Opened'] = (restaurants['Business Start Date']).dt.year\n",
    "\n",
    "# Create column for month opened\n",
    "restaurants['Month Opened'] = (restaurants['Business Start Date']).dt.month\n",
    "\n",
    "# Create column for year closed\n",
    "restaurants['Year Closed'] = restaurants['Business End Date'].dt.year"
   ]
  },
  {
   "cell_type": "code",
   "execution_count": null,
   "metadata": {},
   "outputs": [],
   "source": []
  },
  {
   "cell_type": "markdown",
   "metadata": {},
   "source": [
    "## Narrow list to restaurants that are/were opened between 2010-2018"
   ]
  },
  {
   "cell_type": "code",
   "execution_count": 229,
   "metadata": {},
   "outputs": [],
   "source": [
    "# Keep only restaurants opened between 2010 - 2018\n",
    "restaurants = restaurants[restaurants['Year Opened'].between(2010, 2018)]"
   ]
  },
  {
   "cell_type": "code",
   "execution_count": 230,
   "metadata": {},
   "outputs": [
    {
     "name": "stdout",
     "output_type": "stream",
     "text": [
      "<class 'pandas.core.frame.DataFrame'>\n",
      "Int64Index: 6391 entries, 15 to 249956\n",
      "Data columns (total 9 columns):\n",
      "DBA Name               6391 non-null object\n",
      "Street Address         6391 non-null object\n",
      "Source Zipcode         6391 non-null float64\n",
      "Business Start Date    6391 non-null datetime64[ns]\n",
      "Business End Date      1491 non-null datetime64[ns]\n",
      "Years Open             6391 non-null float64\n",
      "Year Opened            6391 non-null int64\n",
      "Month Opened           6391 non-null int64\n",
      "Year Closed            1491 non-null float64\n",
      "dtypes: datetime64[ns](2), float64(3), int64(2), object(2)\n",
      "memory usage: 499.3+ KB\n"
     ]
    }
   ],
   "source": [
    "restaurants.info()"
   ]
  },
  {
   "cell_type": "markdown",
   "metadata": {},
   "source": [
    "### Start to address issue of corporate vendors in list. Want to whittle list down to actual restaurants."
   ]
  },
  {
   "cell_type": "code",
   "execution_count": 231,
   "metadata": {},
   "outputs": [],
   "source": [
    "# Need to remove all 'DBA Name' with 'Aramark' and 'Guckenheimer' in the title \n",
    "#  --> corporate catering, not restaurants\n",
    "restaurants = restaurants.loc[~restaurants['DBA Name'].str.contains('Aramark')]\n",
    "restaurants = restaurants.loc[~restaurants['DBA Name'].str.contains('Guckenheimer')]\n",
    "\n",
    "### Others???"
   ]
  },
  {
   "cell_type": "code",
   "execution_count": null,
   "metadata": {},
   "outputs": [],
   "source": []
  },
  {
   "cell_type": "markdown",
   "metadata": {},
   "source": [
    "### Remove duplicate entries"
   ]
  },
  {
   "cell_type": "code",
   "execution_count": null,
   "metadata": {},
   "outputs": [],
   "source": []
  },
  {
   "cell_type": "code",
   "execution_count": 232,
   "metadata": {},
   "outputs": [],
   "source": [
    "# Issues that still need to be addressed:\n",
    "# - Duplicates (different business ID number, but same business location)?\n",
    "# - Companies with vendors registered (not a proper restaurant)\n"
   ]
  },
  {
   "cell_type": "code",
   "execution_count": null,
   "metadata": {},
   "outputs": [],
   "source": []
  },
  {
   "cell_type": "code",
   "execution_count": null,
   "metadata": {},
   "outputs": [],
   "source": []
  },
  {
   "cell_type": "code",
   "execution_count": null,
   "metadata": {},
   "outputs": [],
   "source": []
  },
  {
   "cell_type": "code",
   "execution_count": null,
   "metadata": {},
   "outputs": [],
   "source": []
  },
  {
   "cell_type": "code",
   "execution_count": null,
   "metadata": {},
   "outputs": [],
   "source": []
  },
  {
   "cell_type": "code",
   "execution_count": null,
   "metadata": {},
   "outputs": [],
   "source": []
  },
  {
   "cell_type": "code",
   "execution_count": null,
   "metadata": {},
   "outputs": [],
   "source": []
  },
  {
   "cell_type": "code",
   "execution_count": null,
   "metadata": {},
   "outputs": [],
   "source": []
  },
  {
   "cell_type": "code",
   "execution_count": null,
   "metadata": {},
   "outputs": [],
   "source": []
  },
  {
   "cell_type": "markdown",
   "metadata": {},
   "source": [
    "## Poking around"
   ]
  },
  {
   "cell_type": "code",
   "execution_count": 222,
   "metadata": {},
   "outputs": [],
   "source": [
    "#Plotting imports\n",
    "import matplotlib.pyplot as plt\n",
    "import seaborn as sns\n",
    "\n",
    "%matplotlib inline \n",
    "%config InlineBackend.figure_formats = ['retina']\n",
    "sns.set_style(\"white\")"
   ]
  },
  {
   "cell_type": "code",
   "execution_count": 233,
   "metadata": {
    "scrolled": true
   },
   "outputs": [
    {
     "data": {
      "image/png": "[encoded data removed]",
      "text/plain": [
       "<Figure size 1152x432 with 1 Axes>"
      ]
     },
     "metadata": {
      "image/png": {
       "height": 372,
       "width": 935
      }
     },
     "output_type": "display_data"
    }
   ],
   "source": [
    "# Plot of restaurant openings over time\n",
    "plt.figure(figsize=(16, 6))\n",
    "sns.distplot(restaurants['Year Opened']);"
   ]
  },
  {
   "cell_type": "code",
   "execution_count": null,
   "metadata": {},
   "outputs": [],
   "source": []
  },
  {
   "cell_type": "code",
   "execution_count": 234,
   "metadata": {
    "scrolled": true
   },
   "outputs": [
    {
     "data": {
      "image/png": "[encoded data removed]",
      "text/plain": [
       "<Figure size 432x288 with 1 Axes>"
      ]
     },
     "metadata": {
      "image/png": {
       "height": 263,
       "width": 371
      }
     },
     "output_type": "display_data"
    }
   ],
   "source": [
    "# Plot of restaurant closings over time\n",
    "closed_restaurants = restaurants.loc[restaurants['Year Closed'].notnull()]\n",
    "\n",
    "\n",
    "sns.distplot(closed_restaurants['Year Closed']);\n"
   ]
  },
  {
   "cell_type": "code",
   "execution_count": 236,
   "metadata": {},
   "outputs": [
    {
     "data": {
      "text/plain": [
       "<matplotlib.axes._subplots.AxesSubplot at 0x12781a978>"
      ]
     },
     "execution_count": 236,
     "metadata": {},
     "output_type": "execute_result"
    },
    {
     "data": {
      "image/png": "[encoded data removed]",
      "text/plain": [
       "<Figure size 432x288 with 1 Axes>"
      ]
     },
     "metadata": {
      "image/png": {
       "height": 263,
       "width": 384
      }
     },
     "output_type": "display_data"
    }
   ],
   "source": [
    "sns.distplot(closed_restaurants['Year Opened'])"
   ]
  },
  {
   "cell_type": "code",
   "execution_count": 202,
   "metadata": {},
   "outputs": [
    {
     "name": "stderr",
     "output_type": "stream",
     "text": [
      "/anaconda3/lib/python3.7/site-packages/pandas/plotting/_converter.py:129: FutureWarning: Using an implicitly registered datetime converter for a matplotlib plotting method. The converter was registered by pandas on import. Future versions of pandas will require you to explicitly register matplotlib converters.\n",
      "\n",
      "To register the converters:\n",
      "\t>>> from pandas.plotting import register_matplotlib_converters\n",
      "\t>>> register_matplotlib_converters()\n",
      "  warnings.warn(msg, FutureWarning)\n"
     ]
    },
    {
     "data": {
      "text/plain": [
       "<matplotlib.axes._subplots.AxesSubplot at 0x12819e710>"
      ]
     },
     "execution_count": 202,
     "metadata": {},
     "output_type": "execute_result"
    },
    {
     "data": {
      "image/png": "[encoded data removed]",
      "text/plain": [
       "<Figure size 432x288 with 1 Axes>"
      ]
     },
     "metadata": {
      "image/png": {
       "height": 263,
       "width": 377
      },
      "needs_background": "light"
     },
     "output_type": "display_data"
    }
   ],
   "source": [
    "sns.lineplot(x='Business End Date', \n",
    "             y=,\n",
    "             data=restaurants)"
   ]
  },
  {
   "cell_type": "code",
   "execution_count": 203,
   "metadata": {},
   "outputs": [
    {
     "data": {
      "text/plain": [
       "{NaT,\n",
       " Timestamp('2012-12-31 00:00:00'),\n",
       " Timestamp('2014-12-01 00:00:00'),\n",
       " Timestamp('2014-12-31 00:00:00'),\n",
       " Timestamp('2015-03-02 00:00:00'),\n",
       " Timestamp('2015-03-27 00:00:00'),\n",
       " Timestamp('2015-05-01 00:00:00'),\n",
       " Timestamp('2015-05-29 00:00:00'),\n",
       " Timestamp('2015-06-05 00:00:00'),\n",
       " Timestamp('2015-06-11 00:00:00'),\n",
       " Timestamp('2015-06-30 00:00:00'),\n",
       " Timestamp('2015-07-19 00:00:00'),\n",
       " Timestamp('2015-08-31 00:00:00'),\n",
       " Timestamp('2015-09-04 00:00:00'),\n",
       " Timestamp('2015-09-30 00:00:00'),\n",
       " Timestamp('2015-10-26 00:00:00'),\n",
       " Timestamp('2015-10-31 00:00:00'),\n",
       " Timestamp('2015-11-01 00:00:00'),\n",
       " Timestamp('2015-11-03 00:00:00'),\n",
       " Timestamp('2015-11-06 00:00:00'),\n",
       " Timestamp('2015-11-15 00:00:00'),\n",
       " Timestamp('2015-11-29 00:00:00'),\n",
       " Timestamp('2015-11-30 00:00:00'),\n",
       " Timestamp('2015-12-01 00:00:00'),\n",
       " Timestamp('2015-12-17 00:00:00'),\n",
       " Timestamp('2015-12-22 00:00:00'),\n",
       " Timestamp('2015-12-29 00:00:00'),\n",
       " Timestamp('2015-12-30 00:00:00'),\n",
       " Timestamp('2015-12-31 00:00:00'),\n",
       " Timestamp('2016-01-01 00:00:00'),\n",
       " Timestamp('2016-01-25 00:00:00'),\n",
       " Timestamp('2016-01-31 00:00:00'),\n",
       " Timestamp('2016-02-16 00:00:00'),\n",
       " Timestamp('2016-02-28 00:00:00'),\n",
       " Timestamp('2016-02-29 00:00:00'),\n",
       " Timestamp('2016-03-26 00:00:00'),\n",
       " Timestamp('2016-03-28 00:00:00'),\n",
       " Timestamp('2016-03-31 00:00:00'),\n",
       " Timestamp('2016-04-01 00:00:00'),\n",
       " Timestamp('2016-04-10 00:00:00'),\n",
       " Timestamp('2016-04-17 00:00:00'),\n",
       " Timestamp('2016-04-22 00:00:00'),\n",
       " Timestamp('2016-04-30 00:00:00'),\n",
       " Timestamp('2016-05-01 00:00:00'),\n",
       " Timestamp('2016-05-15 00:00:00'),\n",
       " Timestamp('2016-05-18 00:00:00'),\n",
       " Timestamp('2016-05-23 00:00:00'),\n",
       " Timestamp('2016-05-24 00:00:00'),\n",
       " Timestamp('2016-05-31 00:00:00'),\n",
       " Timestamp('2016-06-03 00:00:00'),\n",
       " Timestamp('2016-06-06 00:00:00'),\n",
       " Timestamp('2016-06-24 00:00:00'),\n",
       " Timestamp('2016-06-25 00:00:00'),\n",
       " Timestamp('2016-06-29 00:00:00'),\n",
       " Timestamp('2016-06-30 00:00:00'),\n",
       " Timestamp('2016-07-05 00:00:00'),\n",
       " Timestamp('2016-07-06 00:00:00'),\n",
       " Timestamp('2016-07-15 00:00:00'),\n",
       " Timestamp('2016-07-20 00:00:00'),\n",
       " Timestamp('2016-07-28 00:00:00'),\n",
       " Timestamp('2016-07-30 00:00:00'),\n",
       " Timestamp('2016-07-31 00:00:00'),\n",
       " Timestamp('2016-08-01 00:00:00'),\n",
       " Timestamp('2016-08-05 00:00:00'),\n",
       " Timestamp('2016-08-14 00:00:00'),\n",
       " Timestamp('2016-08-15 00:00:00'),\n",
       " Timestamp('2016-08-16 00:00:00'),\n",
       " Timestamp('2016-08-17 00:00:00'),\n",
       " Timestamp('2016-08-22 00:00:00'),\n",
       " Timestamp('2016-08-26 00:00:00'),\n",
       " Timestamp('2016-08-30 00:00:00'),\n",
       " Timestamp('2016-08-31 00:00:00'),\n",
       " Timestamp('2016-09-01 00:00:00'),\n",
       " Timestamp('2016-09-02 00:00:00'),\n",
       " Timestamp('2016-09-06 00:00:00'),\n",
       " Timestamp('2016-09-07 00:00:00'),\n",
       " Timestamp('2016-09-24 00:00:00'),\n",
       " Timestamp('2016-09-28 00:00:00'),\n",
       " Timestamp('2016-09-29 00:00:00'),\n",
       " Timestamp('2016-09-30 00:00:00'),\n",
       " Timestamp('2016-10-01 00:00:00'),\n",
       " Timestamp('2016-10-06 00:00:00'),\n",
       " Timestamp('2016-10-07 00:00:00'),\n",
       " Timestamp('2016-10-08 00:00:00'),\n",
       " Timestamp('2016-10-10 00:00:00'),\n",
       " Timestamp('2016-10-17 00:00:00'),\n",
       " Timestamp('2016-10-21 00:00:00'),\n",
       " Timestamp('2016-10-22 00:00:00'),\n",
       " Timestamp('2016-10-27 00:00:00'),\n",
       " Timestamp('2016-10-28 00:00:00'),\n",
       " Timestamp('2016-10-31 00:00:00'),\n",
       " Timestamp('2016-11-01 00:00:00'),\n",
       " Timestamp('2016-11-13 00:00:00'),\n",
       " Timestamp('2016-11-21 00:00:00'),\n",
       " Timestamp('2016-11-22 00:00:00'),\n",
       " Timestamp('2016-11-25 00:00:00'),\n",
       " Timestamp('2016-11-27 00:00:00'),\n",
       " Timestamp('2016-11-28 00:00:00'),\n",
       " Timestamp('2016-11-29 00:00:00'),\n",
       " Timestamp('2016-11-30 00:00:00'),\n",
       " Timestamp('2016-12-01 00:00:00'),\n",
       " Timestamp('2016-12-07 00:00:00'),\n",
       " Timestamp('2016-12-09 00:00:00'),\n",
       " Timestamp('2016-12-10 00:00:00'),\n",
       " Timestamp('2016-12-11 00:00:00'),\n",
       " Timestamp('2016-12-12 00:00:00'),\n",
       " Timestamp('2016-12-14 00:00:00'),\n",
       " Timestamp('2016-12-15 00:00:00'),\n",
       " Timestamp('2016-12-21 00:00:00'),\n",
       " Timestamp('2016-12-22 00:00:00'),\n",
       " Timestamp('2016-12-23 00:00:00'),\n",
       " Timestamp('2016-12-26 00:00:00'),\n",
       " Timestamp('2016-12-29 00:00:00'),\n",
       " Timestamp('2016-12-30 00:00:00'),\n",
       " Timestamp('2016-12-31 00:00:00'),\n",
       " Timestamp('2017-01-01 00:00:00'),\n",
       " Timestamp('2017-01-05 00:00:00'),\n",
       " Timestamp('2017-01-08 00:00:00'),\n",
       " Timestamp('2017-01-09 00:00:00'),\n",
       " Timestamp('2017-01-24 00:00:00'),\n",
       " Timestamp('2017-01-30 00:00:00'),\n",
       " Timestamp('2017-02-01 00:00:00'),\n",
       " Timestamp('2017-02-03 00:00:00'),\n",
       " Timestamp('2017-02-04 00:00:00'),\n",
       " Timestamp('2017-02-12 00:00:00'),\n",
       " Timestamp('2017-02-13 00:00:00'),\n",
       " Timestamp('2017-02-14 00:00:00'),\n",
       " Timestamp('2017-02-22 00:00:00'),\n",
       " Timestamp('2017-02-24 00:00:00'),\n",
       " Timestamp('2017-02-27 00:00:00'),\n",
       " Timestamp('2017-02-28 00:00:00'),\n",
       " Timestamp('2017-03-01 00:00:00'),\n",
       " Timestamp('2017-03-06 00:00:00'),\n",
       " Timestamp('2017-03-11 00:00:00'),\n",
       " Timestamp('2017-03-15 00:00:00'),\n",
       " Timestamp('2017-03-19 00:00:00'),\n",
       " Timestamp('2017-03-27 00:00:00'),\n",
       " Timestamp('2017-03-29 00:00:00'),\n",
       " Timestamp('2017-03-31 00:00:00'),\n",
       " Timestamp('2017-04-01 00:00:00'),\n",
       " Timestamp('2017-04-03 00:00:00'),\n",
       " Timestamp('2017-04-06 00:00:00'),\n",
       " Timestamp('2017-04-09 00:00:00'),\n",
       " Timestamp('2017-04-12 00:00:00'),\n",
       " Timestamp('2017-04-15 00:00:00'),\n",
       " Timestamp('2017-04-16 00:00:00'),\n",
       " Timestamp('2017-04-17 00:00:00'),\n",
       " Timestamp('2017-04-21 00:00:00'),\n",
       " Timestamp('2017-04-25 00:00:00'),\n",
       " Timestamp('2017-04-26 00:00:00'),\n",
       " Timestamp('2017-04-27 00:00:00'),\n",
       " Timestamp('2017-04-30 00:00:00'),\n",
       " Timestamp('2017-05-01 00:00:00'),\n",
       " Timestamp('2017-05-02 00:00:00'),\n",
       " Timestamp('2017-05-03 00:00:00'),\n",
       " Timestamp('2017-05-04 00:00:00'),\n",
       " Timestamp('2017-05-05 00:00:00'),\n",
       " Timestamp('2017-05-06 00:00:00'),\n",
       " Timestamp('2017-05-14 00:00:00'),\n",
       " Timestamp('2017-05-15 00:00:00'),\n",
       " Timestamp('2017-05-17 00:00:00'),\n",
       " Timestamp('2017-05-18 00:00:00'),\n",
       " Timestamp('2017-05-19 00:00:00'),\n",
       " Timestamp('2017-05-26 00:00:00'),\n",
       " Timestamp('2017-05-29 00:00:00'),\n",
       " Timestamp('2017-05-30 00:00:00'),\n",
       " Timestamp('2017-05-31 00:00:00'),\n",
       " Timestamp('2017-06-01 00:00:00'),\n",
       " Timestamp('2017-06-06 00:00:00'),\n",
       " Timestamp('2017-06-08 00:00:00'),\n",
       " Timestamp('2017-06-12 00:00:00'),\n",
       " Timestamp('2017-06-15 00:00:00'),\n",
       " Timestamp('2017-06-16 00:00:00'),\n",
       " Timestamp('2017-06-18 00:00:00'),\n",
       " Timestamp('2017-06-19 00:00:00'),\n",
       " Timestamp('2017-06-26 00:00:00'),\n",
       " Timestamp('2017-06-28 00:00:00'),\n",
       " Timestamp('2017-06-29 00:00:00'),\n",
       " Timestamp('2017-06-30 00:00:00'),\n",
       " Timestamp('2017-07-03 00:00:00'),\n",
       " Timestamp('2017-07-18 00:00:00'),\n",
       " Timestamp('2017-07-27 00:00:00'),\n",
       " Timestamp('2017-07-28 00:00:00'),\n",
       " Timestamp('2017-07-31 00:00:00'),\n",
       " Timestamp('2017-08-01 00:00:00'),\n",
       " Timestamp('2017-08-02 00:00:00'),\n",
       " Timestamp('2017-08-04 00:00:00'),\n",
       " Timestamp('2017-08-10 00:00:00'),\n",
       " Timestamp('2017-08-14 00:00:00'),\n",
       " Timestamp('2017-08-16 00:00:00'),\n",
       " Timestamp('2017-08-25 00:00:00'),\n",
       " Timestamp('2017-08-27 00:00:00'),\n",
       " Timestamp('2017-08-29 00:00:00'),\n",
       " Timestamp('2017-08-30 00:00:00'),\n",
       " Timestamp('2017-08-31 00:00:00'),\n",
       " Timestamp('2017-09-01 00:00:00'),\n",
       " Timestamp('2017-09-04 00:00:00'),\n",
       " Timestamp('2017-09-11 00:00:00'),\n",
       " Timestamp('2017-09-18 00:00:00'),\n",
       " Timestamp('2017-09-26 00:00:00'),\n",
       " Timestamp('2017-09-29 00:00:00'),\n",
       " Timestamp('2017-09-30 00:00:00'),\n",
       " Timestamp('2017-10-01 00:00:00'),\n",
       " Timestamp('2017-10-10 00:00:00'),\n",
       " Timestamp('2017-10-16 00:00:00'),\n",
       " Timestamp('2017-10-17 00:00:00'),\n",
       " Timestamp('2017-10-18 00:00:00'),\n",
       " Timestamp('2017-10-19 00:00:00'),\n",
       " Timestamp('2017-10-24 00:00:00'),\n",
       " Timestamp('2017-10-27 00:00:00'),\n",
       " Timestamp('2017-10-29 00:00:00'),\n",
       " Timestamp('2017-10-31 00:00:00'),\n",
       " Timestamp('2017-11-01 00:00:00'),\n",
       " Timestamp('2017-11-08 00:00:00'),\n",
       " Timestamp('2017-11-15 00:00:00'),\n",
       " Timestamp('2017-11-20 00:00:00'),\n",
       " Timestamp('2017-11-22 00:00:00'),\n",
       " Timestamp('2017-11-24 00:00:00'),\n",
       " Timestamp('2017-11-27 00:00:00'),\n",
       " Timestamp('2017-11-28 00:00:00'),\n",
       " Timestamp('2017-12-01 00:00:00'),\n",
       " Timestamp('2017-12-04 00:00:00'),\n",
       " Timestamp('2017-12-07 00:00:00'),\n",
       " Timestamp('2017-12-11 00:00:00'),\n",
       " Timestamp('2017-12-12 00:00:00'),\n",
       " Timestamp('2017-12-13 00:00:00'),\n",
       " Timestamp('2017-12-15 00:00:00'),\n",
       " Timestamp('2017-12-16 00:00:00'),\n",
       " Timestamp('2017-12-20 00:00:00'),\n",
       " Timestamp('2017-12-22 00:00:00'),\n",
       " Timestamp('2017-12-24 00:00:00'),\n",
       " Timestamp('2017-12-28 00:00:00'),\n",
       " Timestamp('2017-12-29 00:00:00'),\n",
       " Timestamp('2017-12-31 00:00:00'),\n",
       " Timestamp('2018-01-01 00:00:00'),\n",
       " Timestamp('2018-01-02 00:00:00'),\n",
       " Timestamp('2018-01-03 00:00:00'),\n",
       " Timestamp('2018-01-04 00:00:00'),\n",
       " Timestamp('2018-01-07 00:00:00'),\n",
       " Timestamp('2018-01-08 00:00:00'),\n",
       " Timestamp('2018-01-12 00:00:00'),\n",
       " Timestamp('2018-01-17 00:00:00'),\n",
       " Timestamp('2018-01-19 00:00:00'),\n",
       " Timestamp('2018-01-21 00:00:00'),\n",
       " Timestamp('2018-01-24 00:00:00'),\n",
       " Timestamp('2018-01-26 00:00:00'),\n",
       " Timestamp('2018-01-27 00:00:00'),\n",
       " Timestamp('2018-01-28 00:00:00'),\n",
       " Timestamp('2018-01-29 00:00:00'),\n",
       " Timestamp('2018-01-30 00:00:00'),\n",
       " Timestamp('2018-01-31 00:00:00'),\n",
       " Timestamp('2018-02-15 00:00:00'),\n",
       " Timestamp('2018-02-17 00:00:00'),\n",
       " Timestamp('2018-02-21 00:00:00'),\n",
       " Timestamp('2018-02-26 00:00:00'),\n",
       " Timestamp('2018-02-27 00:00:00'),\n",
       " Timestamp('2018-02-28 00:00:00'),\n",
       " Timestamp('2018-03-01 00:00:00'),\n",
       " Timestamp('2018-03-02 00:00:00'),\n",
       " Timestamp('2018-03-05 00:00:00'),\n",
       " Timestamp('2018-03-08 00:00:00'),\n",
       " Timestamp('2018-03-10 00:00:00'),\n",
       " Timestamp('2018-03-11 00:00:00'),\n",
       " Timestamp('2018-03-13 00:00:00'),\n",
       " Timestamp('2018-03-15 00:00:00'),\n",
       " Timestamp('2018-03-17 00:00:00'),\n",
       " Timestamp('2018-03-18 00:00:00'),\n",
       " Timestamp('2018-03-19 00:00:00'),\n",
       " Timestamp('2018-03-20 00:00:00'),\n",
       " Timestamp('2018-03-21 00:00:00'),\n",
       " Timestamp('2018-03-23 00:00:00'),\n",
       " Timestamp('2018-03-24 00:00:00'),\n",
       " Timestamp('2018-03-26 00:00:00'),\n",
       " Timestamp('2018-03-27 00:00:00'),\n",
       " Timestamp('2018-03-30 00:00:00'),\n",
       " Timestamp('2018-03-31 00:00:00'),\n",
       " Timestamp('2018-04-01 00:00:00'),\n",
       " Timestamp('2018-04-02 00:00:00'),\n",
       " Timestamp('2018-04-15 00:00:00'),\n",
       " Timestamp('2018-04-16 00:00:00'),\n",
       " Timestamp('2018-04-19 00:00:00'),\n",
       " Timestamp('2018-04-23 00:00:00'),\n",
       " Timestamp('2018-04-27 00:00:00'),\n",
       " Timestamp('2018-04-30 00:00:00'),\n",
       " Timestamp('2018-05-01 00:00:00'),\n",
       " Timestamp('2018-05-04 00:00:00'),\n",
       " Timestamp('2018-05-08 00:00:00'),\n",
       " Timestamp('2018-05-09 00:00:00'),\n",
       " Timestamp('2018-05-11 00:00:00'),\n",
       " Timestamp('2018-05-13 00:00:00'),\n",
       " Timestamp('2018-05-14 00:00:00'),\n",
       " Timestamp('2018-05-15 00:00:00'),\n",
       " Timestamp('2018-05-17 00:00:00'),\n",
       " Timestamp('2018-05-21 00:00:00'),\n",
       " Timestamp('2018-05-23 00:00:00'),\n",
       " Timestamp('2018-05-25 00:00:00'),\n",
       " Timestamp('2018-05-27 00:00:00'),\n",
       " Timestamp('2018-05-28 00:00:00'),\n",
       " Timestamp('2018-05-29 00:00:00'),\n",
       " Timestamp('2018-05-30 00:00:00'),\n",
       " Timestamp('2018-05-31 00:00:00'),\n",
       " Timestamp('2018-06-01 00:00:00'),\n",
       " Timestamp('2018-06-04 00:00:00'),\n",
       " Timestamp('2018-06-06 00:00:00'),\n",
       " Timestamp('2018-06-09 00:00:00'),\n",
       " Timestamp('2018-06-10 00:00:00'),\n",
       " Timestamp('2018-06-11 00:00:00'),\n",
       " Timestamp('2018-06-13 00:00:00'),\n",
       " Timestamp('2018-06-15 00:00:00'),\n",
       " Timestamp('2018-06-17 00:00:00'),\n",
       " Timestamp('2018-06-18 00:00:00'),\n",
       " Timestamp('2018-06-25 00:00:00'),\n",
       " Timestamp('2018-06-28 00:00:00'),\n",
       " Timestamp('2018-06-29 00:00:00'),\n",
       " Timestamp('2018-06-30 00:00:00'),\n",
       " Timestamp('2018-07-01 00:00:00'),\n",
       " Timestamp('2018-07-02 00:00:00'),\n",
       " Timestamp('2018-07-07 00:00:00'),\n",
       " Timestamp('2018-07-08 00:00:00'),\n",
       " Timestamp('2018-07-12 00:00:00'),\n",
       " Timestamp('2018-07-15 00:00:00'),\n",
       " Timestamp('2018-07-23 00:00:00'),\n",
       " Timestamp('2018-07-24 00:00:00'),\n",
       " Timestamp('2018-07-25 00:00:00'),\n",
       " Timestamp('2018-07-27 00:00:00'),\n",
       " Timestamp('2018-07-30 00:00:00'),\n",
       " Timestamp('2018-07-31 00:00:00'),\n",
       " Timestamp('2018-08-05 00:00:00'),\n",
       " Timestamp('2018-08-06 00:00:00'),\n",
       " Timestamp('2018-08-08 00:00:00'),\n",
       " Timestamp('2018-08-15 00:00:00'),\n",
       " Timestamp('2018-08-17 00:00:00'),\n",
       " Timestamp('2018-08-20 00:00:00'),\n",
       " Timestamp('2018-08-22 00:00:00'),\n",
       " Timestamp('2018-08-27 00:00:00'),\n",
       " Timestamp('2018-08-28 00:00:00'),\n",
       " Timestamp('2018-08-30 00:00:00'),\n",
       " Timestamp('2018-08-31 00:00:00'),\n",
       " Timestamp('2018-09-01 00:00:00'),\n",
       " Timestamp('2018-09-05 00:00:00'),\n",
       " Timestamp('2018-09-06 00:00:00'),\n",
       " Timestamp('2018-09-15 00:00:00'),\n",
       " Timestamp('2018-09-17 00:00:00'),\n",
       " Timestamp('2018-09-25 00:00:00'),\n",
       " Timestamp('2018-09-27 00:00:00'),\n",
       " Timestamp('2018-09-29 00:00:00'),\n",
       " Timestamp('2018-09-30 00:00:00'),\n",
       " Timestamp('2018-10-01 00:00:00'),\n",
       " Timestamp('2018-10-04 00:00:00'),\n",
       " Timestamp('2018-10-05 00:00:00'),\n",
       " Timestamp('2018-10-06 00:00:00'),\n",
       " Timestamp('2018-10-07 00:00:00'),\n",
       " Timestamp('2018-10-09 00:00:00'),\n",
       " Timestamp('2018-10-10 00:00:00'),\n",
       " Timestamp('2018-10-15 00:00:00'),\n",
       " Timestamp('2018-10-22 00:00:00'),\n",
       " Timestamp('2018-10-27 00:00:00'),\n",
       " Timestamp('2018-10-31 00:00:00'),\n",
       " Timestamp('2018-11-01 00:00:00'),\n",
       " Timestamp('2018-11-02 00:00:00'),\n",
       " Timestamp('2018-11-04 00:00:00'),\n",
       " Timestamp('2018-11-05 00:00:00'),\n",
       " Timestamp('2018-11-11 00:00:00'),\n",
       " Timestamp('2018-11-21 00:00:00'),\n",
       " Timestamp('2018-11-23 00:00:00'),\n",
       " Timestamp('2018-11-26 00:00:00'),\n",
       " Timestamp('2018-11-30 00:00:00'),\n",
       " Timestamp('2018-12-01 00:00:00'),\n",
       " Timestamp('2018-12-12 00:00:00'),\n",
       " Timestamp('2018-12-13 00:00:00'),\n",
       " Timestamp('2018-12-14 00:00:00'),\n",
       " Timestamp('2018-12-19 00:00:00'),\n",
       " Timestamp('2018-12-20 00:00:00'),\n",
       " Timestamp('2018-12-21 00:00:00'),\n",
       " Timestamp('2018-12-22 00:00:00'),\n",
       " Timestamp('2018-12-23 00:00:00'),\n",
       " Timestamp('2018-12-25 00:00:00'),\n",
       " Timestamp('2018-12-27 00:00:00'),\n",
       " Timestamp('2018-12-28 00:00:00'),\n",
       " Timestamp('2018-12-30 00:00:00'),\n",
       " Timestamp('2018-12-31 00:00:00'),\n",
       " Timestamp('2019-01-01 00:00:00'),\n",
       " Timestamp('2019-01-02 00:00:00'),\n",
       " Timestamp('2019-01-03 00:00:00'),\n",
       " Timestamp('2019-01-04 00:00:00'),\n",
       " Timestamp('2019-01-09 00:00:00'),\n",
       " Timestamp('2019-01-15 00:00:00'),\n",
       " Timestamp('2019-01-17 00:00:00'),\n",
       " Timestamp('2019-01-22 00:00:00'),\n",
       " Timestamp('2019-01-28 00:00:00'),\n",
       " Timestamp('2019-01-31 00:00:00'),\n",
       " Timestamp('2019-02-01 00:00:00'),\n",
       " Timestamp('2019-02-03 00:00:00'),\n",
       " Timestamp('2019-02-04 00:00:00'),\n",
       " Timestamp('2019-02-09 00:00:00'),\n",
       " Timestamp('2019-02-14 00:00:00'),\n",
       " Timestamp('2019-02-16 00:00:00'),\n",
       " Timestamp('2019-02-25 00:00:00'),\n",
       " Timestamp('2019-02-28 00:00:00'),\n",
       " Timestamp('2019-03-01 00:00:00'),\n",
       " Timestamp('2019-03-06 00:00:00'),\n",
       " Timestamp('2019-03-08 00:00:00'),\n",
       " Timestamp('2019-03-12 00:00:00'),\n",
       " Timestamp('2019-03-13 00:00:00'),\n",
       " Timestamp('2019-03-14 00:00:00'),\n",
       " Timestamp('2019-03-23 00:00:00'),\n",
       " Timestamp('2019-03-25 00:00:00'),\n",
       " Timestamp('2019-03-28 00:00:00'),\n",
       " Timestamp('2019-03-29 00:00:00'),\n",
       " Timestamp('2019-03-31 00:00:00'),\n",
       " Timestamp('2019-04-01 00:00:00'),\n",
       " Timestamp('2019-04-11 00:00:00'),\n",
       " Timestamp('2019-04-12 00:00:00'),\n",
       " Timestamp('2019-04-15 00:00:00'),\n",
       " Timestamp('2019-04-17 00:00:00'),\n",
       " Timestamp('2019-04-19 00:00:00'),\n",
       " Timestamp('2019-04-21 00:00:00'),\n",
       " Timestamp('2019-04-23 00:00:00'),\n",
       " Timestamp('2019-04-26 00:00:00'),\n",
       " Timestamp('2019-04-30 00:00:00'),\n",
       " Timestamp('2019-05-01 00:00:00'),\n",
       " Timestamp('2019-05-02 00:00:00'),\n",
       " Timestamp('2019-05-09 00:00:00'),\n",
       " Timestamp('2019-05-10 00:00:00'),\n",
       " Timestamp('2019-05-14 00:00:00'),\n",
       " Timestamp('2019-05-15 00:00:00'),\n",
       " Timestamp('2019-05-16 00:00:00'),\n",
       " Timestamp('2019-05-22 00:00:00'),\n",
       " Timestamp('2019-05-23 00:00:00'),\n",
       " Timestamp('2019-05-25 00:00:00'),\n",
       " Timestamp('2019-05-27 00:00:00'),\n",
       " Timestamp('2019-05-28 00:00:00'),\n",
       " Timestamp('2019-05-29 00:00:00'),\n",
       " Timestamp('2019-05-30 00:00:00'),\n",
       " Timestamp('2019-05-31 00:00:00'),\n",
       " Timestamp('2019-06-01 00:00:00'),\n",
       " Timestamp('2019-06-06 00:00:00'),\n",
       " Timestamp('2019-06-09 00:00:00'),\n",
       " Timestamp('2019-06-13 00:00:00'),\n",
       " Timestamp('2019-06-14 00:00:00'),\n",
       " Timestamp('2019-06-15 00:00:00'),\n",
       " Timestamp('2019-06-16 00:00:00'),\n",
       " Timestamp('2019-06-18 00:00:00'),\n",
       " Timestamp('2019-06-19 00:00:00'),\n",
       " Timestamp('2019-06-20 00:00:00'),\n",
       " Timestamp('2019-06-27 00:00:00'),\n",
       " Timestamp('2019-06-28 00:00:00'),\n",
       " Timestamp('2019-06-29 00:00:00'),\n",
       " Timestamp('2019-06-30 00:00:00'),\n",
       " Timestamp('2019-07-01 00:00:00'),\n",
       " Timestamp('2019-07-06 00:00:00'),\n",
       " Timestamp('2019-07-30 00:00:00'),\n",
       " Timestamp('2019-07-31 00:00:00'),\n",
       " Timestamp('2019-08-01 00:00:00'),\n",
       " Timestamp('2019-08-06 00:00:00'),\n",
       " Timestamp('2019-08-12 00:00:00'),\n",
       " Timestamp('2019-08-13 00:00:00'),\n",
       " Timestamp('2019-08-16 00:00:00'),\n",
       " Timestamp('2019-08-18 00:00:00'),\n",
       " Timestamp('2019-08-23 00:00:00'),\n",
       " Timestamp('2019-08-27 00:00:00'),\n",
       " Timestamp('2019-08-31 00:00:00'),\n",
       " Timestamp('2019-09-01 00:00:00'),\n",
       " Timestamp('2019-09-09 00:00:00'),\n",
       " Timestamp('2019-09-13 00:00:00'),\n",
       " Timestamp('2019-09-21 00:00:00'),\n",
       " Timestamp('2019-09-23 00:00:00'),\n",
       " Timestamp('2019-09-25 00:00:00'),\n",
       " Timestamp('2019-09-30 00:00:00'),\n",
       " Timestamp('2019-10-01 00:00:00'),\n",
       " Timestamp('2019-10-17 00:00:00'),\n",
       " Timestamp('2019-10-18 00:00:00'),\n",
       " Timestamp('2019-10-21 00:00:00'),\n",
       " Timestamp('2019-10-24 00:00:00'),\n",
       " Timestamp('2019-10-25 00:00:00'),\n",
       " Timestamp('2019-10-28 00:00:00'),\n",
       " Timestamp('2019-10-31 00:00:00'),\n",
       " Timestamp('2019-11-03 00:00:00'),\n",
       " Timestamp('2019-11-06 00:00:00'),\n",
       " Timestamp('2019-11-15 00:00:00'),\n",
       " Timestamp('2019-12-03 00:00:00'),\n",
       " Timestamp('2019-12-06 00:00:00')}"
      ]
     },
     "execution_count": 203,
     "metadata": {},
     "output_type": "execute_result"
    }
   ],
   "source": [
    "# Interesting... Business closures don't really kick in until March 2015.\n",
    "# Likely a data collection issue. Need to adjust data range accordingly.\n",
    "set(restaurants['Business End Date'])"
   ]
  },
  {
   "cell_type": "code",
   "execution_count": null,
   "metadata": {},
   "outputs": [],
   "source": []
  },
  {
   "cell_type": "code",
   "execution_count": null,
   "metadata": {},
   "outputs": [],
   "source": []
  },
  {
   "cell_type": "code",
   "execution_count": null,
   "metadata": {},
   "outputs": [],
   "source": [
    "#Make a histogram for closed restaurants to see the distribution across number of years open\n",
    "sns.set_style('whitegrid')\n",
    "sns.set_palette('husl')\n",
    "sns.set_context('talk')\n",
    "plt.figure(figsize=(16, 6))\n",
    "plt.title('Distribution: Time SF Restaurants Last', \n",
    "          fontdict={'fontweight': 'bold', 'fontsize': 24}, \n",
    "          pad = 10)\n",
    "sns.distplot(closed_restaurants['Years Open'], \n",
    "            color = 'b')\n",
    "plt.savefig('YearsOpen_dist.png');"
   ]
  },
  {
   "cell_type": "code",
   "execution_count": null,
   "metadata": {},
   "outputs": [],
   "source": []
  },
  {
   "cell_type": "code",
   "execution_count": null,
   "metadata": {},
   "outputs": [],
   "source": []
  },
  {
   "cell_type": "code",
   "execution_count": null,
   "metadata": {},
   "outputs": [],
   "source": []
  },
  {
   "cell_type": "code",
   "execution_count": null,
   "metadata": {},
   "outputs": [],
   "source": []
  },
  {
   "cell_type": "code",
   "execution_count": null,
   "metadata": {},
   "outputs": [],
   "source": []
  },
  {
   "cell_type": "code",
   "execution_count": null,
   "metadata": {},
   "outputs": [],
   "source": []
  },
  {
   "cell_type": "code",
   "execution_count": null,
   "metadata": {},
   "outputs": [],
   "source": []
  },
  {
   "cell_type": "code",
   "execution_count": 151,
   "metadata": {},
   "outputs": [],
   "source": [
    "#Look into subset of 'Closed Restaurants'\n",
    "#closed_restaurants = \n",
    "#restaurants.loc[restaurants['Business End Date'].notnull()]"
   ]
  },
  {
   "cell_type": "code",
   "execution_count": null,
   "metadata": {},
   "outputs": [],
   "source": []
  },
  {
   "cell_type": "code",
   "execution_count": null,
   "metadata": {},
   "outputs": [],
   "source": []
  },
  {
   "cell_type": "code",
   "execution_count": null,
   "metadata": {},
   "outputs": [],
   "source": []
  },
  {
   "cell_type": "code",
   "execution_count": null,
   "metadata": {},
   "outputs": [],
   "source": []
  },
  {
   "cell_type": "code",
   "execution_count": null,
   "metadata": {},
   "outputs": [],
   "source": []
  },
  {
   "cell_type": "code",
   "execution_count": null,
   "metadata": {},
   "outputs": [],
   "source": []
  },
  {
   "cell_type": "code",
   "execution_count": null,
   "metadata": {},
   "outputs": [],
   "source": []
  },
  {
   "cell_type": "code",
   "execution_count": null,
   "metadata": {},
   "outputs": [],
   "source": []
  }
 ],
 "metadata": {
  "kernelspec": {
   "display_name": "Python 3",
   "language": "python",
   "name": "python3"
  },
  "language_info": {
   "codemirror_mode": {
    "name": "ipython",
    "version": 3
   },
   "file_extension": ".py",
   "mimetype": "text/x-python",
   "name": "python",
   "nbconvert_exporter": "python",
   "pygments_lexer": "ipython3",
   "version": "3.7.2"
  }
 },
 "nbformat": 4,
 "nbformat_minor": 2
}
