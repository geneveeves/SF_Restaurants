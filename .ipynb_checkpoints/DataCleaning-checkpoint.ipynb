{
 "cells": [
  {
   "cell_type": "markdown",
   "metadata": {},
   "source": [
    "San Francisco - Registered Business Locations"
   ]
  },
  {
   "cell_type": "code",
   "execution_count": 89,
   "metadata": {},
   "outputs": [],
   "source": [
    "import numpy as np\n",
    "import pandas as pd\n",
    "import datetime as dt"
   ]
  },
  {
   "cell_type": "code",
   "execution_count": 26,
   "metadata": {},
   "outputs": [],
   "source": [
    "registered_businesses = pd.read_csv('Registered_Business_Locations_-_San_Francisco.csv')"
   ]
  },
  {
   "cell_type": "code",
   "execution_count": 69,
   "metadata": {
    "scrolled": true
   },
   "outputs": [
    {
     "name": "stdout",
     "output_type": "stream",
     "text": [
      "<class 'pandas.core.frame.DataFrame'>\n",
      "RangeIndex: 250047 entries, 0 to 250046\n",
      "Data columns (total 26 columns):\n",
      "Location Id                            250047 non-null object\n",
      "Business Account Number                250047 non-null int64\n",
      "Ownership Name                         250047 non-null object\n",
      "DBA Name                               250047 non-null object\n",
      "Street Address                         250043 non-null object\n",
      "City                                   249856 non-null object\n",
      "State                                  249431 non-null object\n",
      "Source Zipcode                         249782 non-null float64\n",
      "Business Start Date                    250047 non-null object\n",
      "Business End Date                      100363 non-null object\n",
      "Location Start Date                    250047 non-null object\n",
      "Location End Date                      125102 non-null object\n",
      "Mail Address                           14639 non-null object\n",
      "Mail City                              149654 non-null object\n",
      "Mail Zipcode                           149632 non-null object\n",
      "Mail State                             149630 non-null object\n",
      "NAICS Code                             155606 non-null object\n",
      "NAICS Code Description                 155606 non-null object\n",
      "Parking Tax                            250047 non-null bool\n",
      "Transient Occupancy Tax                250047 non-null bool\n",
      "LIC Code                               16642 non-null object\n",
      "LIC Code Description                   1367 non-null object\n",
      "Supervisor District                    147906 non-null float64\n",
      "Neighborhoods - Analysis Boundaries    147901 non-null object\n",
      "Business Corridor                      321 non-null object\n",
      "Business Location                      167333 non-null object\n",
      "dtypes: bool(2), float64(2), int64(1), object(21)\n",
      "memory usage: 46.3+ MB\n"
     ]
    }
   ],
   "source": [
    "registered_businesses.info()"
   ]
  },
  {
   "cell_type": "code",
   "execution_count": 70,
   "metadata": {},
   "outputs": [],
   "source": [
    "#NAICS Code Description list\n",
    "#set(registered_businesses['NAICS Code Description'])"
   ]
  },
  {
   "cell_type": "code",
   "execution_count": 118,
   "metadata": {},
   "outputs": [
    {
     "name": "stdout",
     "output_type": "stream",
     "text": [
      "<class 'pandas.core.frame.DataFrame'>\n",
      "Int64Index: 12768 entries, 15 to 250025\n",
      "Data columns (total 26 columns):\n",
      "Location Id                            12768 non-null object\n",
      "Business Account Number                12768 non-null int64\n",
      "Ownership Name                         12768 non-null object\n",
      "DBA Name                               12768 non-null object\n",
      "Street Address                         12768 non-null object\n",
      "City                                   12768 non-null object\n",
      "State                                  12764 non-null object\n",
      "Source Zipcode                         12685 non-null float64\n",
      "Business Start Date                    12768 non-null object\n",
      "Business End Date                      3128 non-null object\n",
      "Location Start Date                    12768 non-null object\n",
      "Location End Date                      4818 non-null object\n",
      "Mail Address                           1319 non-null object\n",
      "Mail City                              9640 non-null object\n",
      "Mail Zipcode                           9640 non-null object\n",
      "Mail State                             9638 non-null object\n",
      "NAICS Code                             12768 non-null object\n",
      "NAICS Code Description                 12768 non-null object\n",
      "Parking Tax                            12768 non-null bool\n",
      "Transient Occupancy Tax                12768 non-null bool\n",
      "LIC Code                               6149 non-null object\n",
      "LIC Code Description                   616 non-null object\n",
      "Supervisor District                    6158 non-null float64\n",
      "Neighborhoods - Analysis Boundaries    6158 non-null object\n",
      "Business Corridor                      21 non-null object\n",
      "Business Location                      6879 non-null object\n",
      "dtypes: bool(2), float64(2), int64(1), object(21)\n",
      "memory usage: 2.5+ MB\n"
     ]
    }
   ],
   "source": [
    "#Keep only 'Food Services' businesses for Restaurant List\n",
    "restaurants = registered_businesses.loc[registered_businesses['NAICS Code Description'] == 'Food Services']\n",
    "restaurants.info()"
   ]
  },
  {
   "cell_type": "code",
   "execution_count": 119,
   "metadata": {},
   "outputs": [],
   "source": [
    "#Keep only select columns of \"Restaurants\"\n",
    "restaurants = restaurants[['DBA Name', 'Street Address', \n",
    "                           'City', 'State', 'Source Zipcode', \n",
    "                           'Business Start Date', 'Business End Date']]\n",
    "\n",
    "#Drop entries without a 'Source Zipcode'\n",
    "restaurants.dropna(subset=['Source Zipcode'], inplace=True)"
   ]
  },
  {
   "cell_type": "code",
   "execution_count": 120,
   "metadata": {
    "scrolled": true
   },
   "outputs": [
    {
     "name": "stdout",
     "output_type": "stream",
     "text": [
      "<class 'pandas.core.frame.DataFrame'>\n",
      "Int64Index: 12685 entries, 15 to 250025\n",
      "Data columns (total 7 columns):\n",
      "DBA Name               12685 non-null object\n",
      "Street Address         12685 non-null object\n",
      "City                   12685 non-null object\n",
      "State                  12684 non-null object\n",
      "Source Zipcode         12685 non-null float64\n",
      "Business Start Date    12685 non-null object\n",
      "Business End Date      3122 non-null object\n",
      "dtypes: float64(1), object(6)\n",
      "memory usage: 792.8+ KB\n"
     ]
    }
   ],
   "source": [
    "restaurants.info()"
   ]
  },
  {
   "cell_type": "code",
   "execution_count": 121,
   "metadata": {},
   "outputs": [],
   "source": [
    "# Keep only entries with 'State' == 'CA'\n",
    "restaurants = restaurants.loc[restaurants['State'] == 'CA']"
   ]
  },
  {
   "cell_type": "code",
   "execution_count": 122,
   "metadata": {},
   "outputs": [],
   "source": [
    "#Decide to ignore all entries for the ballpark (not really representative of what I'm looking for)"
   ]
  },
  {
   "cell_type": "code",
   "execution_count": 123,
   "metadata": {},
   "outputs": [],
   "source": [
    "#Write function to correct all misspellings of \"San Francisco\"\n",
    "def fix_city_names(city):\n",
    "    '''\n",
    "    Correct all misspellings of \"San Francisco\" in 'City' column\n",
    "    '''\n",
    "    list_of_misspellings = ['Sa Francisco', \n",
    "                            'San', \n",
    "                            'San  Francisco', \n",
    "                            'San Fancisco', \n",
    "                            'San Farancisco', \n",
    "                            'San Fracisco', \n",
    "                            'San Fracnisco', \n",
    "                            'San Francico', \n",
    "                            'San Francicsco', \n",
    "                            'San Francicso', \n",
    "                            'San Francis', \n",
    "                            'San Francisc', \n",
    "                            'San Francisc0', \n",
    "                            'San Francisci', \n",
    "                            'San Franciscio', \n",
    "                            'San Franciscoq', \n",
    "                            'San Franciso', \n",
    "                            'San Francisoc', \n",
    "                            'San Francsico', \n",
    "                            'San Francsisco', \n",
    "                            'San Franicsco', \n",
    "                            'San Franisco', \n",
    "                            'San Fransico', \n",
    "                            'San Fransisco', \n",
    "                            'San Frascisco', \n",
    "                            'San Frnacisco', \n",
    "                            'Sanfrancisco', \n",
    "                            'Sanfrancisoc', \n",
    "                            'Sf', \n",
    "                            'Sn Francisco']\n",
    "    \n",
    "    if city in list_of_misspellings:\n",
    "        return 'San Francisco'\n",
    "    else:\n",
    "        return city"
   ]
  },
  {
   "cell_type": "code",
   "execution_count": 124,
   "metadata": {},
   "outputs": [],
   "source": [
    "restaurants['City'] = restaurants['City'].apply(fix_city_names)"
   ]
  },
  {
   "cell_type": "code",
   "execution_count": 125,
   "metadata": {},
   "outputs": [
    {
     "name": "stdout",
     "output_type": "stream",
     "text": [
      "<class 'pandas.core.frame.DataFrame'>\n",
      "Int64Index: 11848 entries, 15 to 250025\n",
      "Data columns (total 7 columns):\n",
      "DBA Name               11848 non-null object\n",
      "Street Address         11848 non-null object\n",
      "City                   11848 non-null object\n",
      "State                  11848 non-null object\n",
      "Source Zipcode         11848 non-null float64\n",
      "Business Start Date    11848 non-null object\n",
      "Business End Date      2902 non-null object\n",
      "dtypes: float64(1), object(6)\n",
      "memory usage: 740.5+ KB\n"
     ]
    }
   ],
   "source": [
    "# Keep only city listed as 'San Francisco'\n",
    "restaurants = restaurants.loc[restaurants['City'] == 'San Francisco']\n",
    "restaurants.info()"
   ]
  },
  {
   "cell_type": "code",
   "execution_count": 126,
   "metadata": {},
   "outputs": [],
   "source": [
    "# Drop 'City' and 'State' columns now that they've been standardized\n",
    "restaurants.drop(columns=['City', 'State'], inplace=True)"
   ]
  },
  {
   "cell_type": "code",
   "execution_count": 127,
   "metadata": {},
   "outputs": [],
   "source": [
    "# Convert 'Business Start Date' and 'Business End Date' to datetime objects\n",
    "restaurants['Business Start Date'] = pd.to_datetime(restaurants['Business Start Date'], format='%m/%d/%Y')\n",
    "restaurants['Business End Date'] = pd.to_datetime(restaurants['Business End Date'], format='%m/%d/%Y')"
   ]
  },
  {
   "cell_type": "code",
   "execution_count": 128,
   "metadata": {},
   "outputs": [],
   "source": [
    "#restaurants.info()"
   ]
  },
  {
   "cell_type": "code",
   "execution_count": 129,
   "metadata": {},
   "outputs": [],
   "source": [
    "# Create column 'Years Open' for length of time restaurant was/has been in business\n",
    "#Closed restaurants:\n",
    "restaurants.loc[restaurants['Business End Date'].notnull(), 'Years Open'] = (\n",
    "    (restaurants['Business End Date'] - restaurants['Business Start Date']).dt.days)/365\n",
    "\n",
    "#Restaurants still in business:\n",
    "restaurants.loc[restaurants['Business End Date'].isnull(), 'Years Open'] = (\n",
    "    (pd.to_datetime('today') - restaurants['Business Start Date']).dt.days)/365"
   ]
  },
  {
   "cell_type": "code",
   "execution_count": 130,
   "metadata": {},
   "outputs": [],
   "source": [
    "# Create column for year opened\n",
    "restaurants['Year Opened'] = (restaurants['Business Start Date']).dt.year\n",
    "\n",
    "# Create column for month opened\n",
    "restaurants['Month Opened'] = (restaurants['Business Start Date']).dt.month"
   ]
  },
  {
   "cell_type": "code",
   "execution_count": 131,
   "metadata": {},
   "outputs": [],
   "source": [
    "# Keep only restaurants opened since 2010\n",
    "restaurants = restaurants.loc[restaurants['Year Opened'] >= 2010]"
   ]
  },
  {
   "cell_type": "code",
   "execution_count": 132,
   "metadata": {},
   "outputs": [],
   "source": [
    "# Keep only restaurants open longer than 1 year\n",
    "restaurants = restaurants.loc[restaurants['Years Open'] >= 1]"
   ]
  },
  {
   "cell_type": "code",
   "execution_count": 133,
   "metadata": {},
   "outputs": [
    {
     "name": "stdout",
     "output_type": "stream",
     "text": [
      "<class 'pandas.core.frame.DataFrame'>\n",
      "Int64Index: 6493 entries, 15 to 249956\n",
      "Data columns (total 8 columns):\n",
      "DBA Name               6493 non-null object\n",
      "Street Address         6493 non-null object\n",
      "Source Zipcode         6493 non-null float64\n",
      "Business Start Date    6493 non-null datetime64[ns]\n",
      "Business End Date      1492 non-null datetime64[ns]\n",
      "Years Open             6493 non-null float64\n",
      "Year Opened            6493 non-null int64\n",
      "Month Opened           6493 non-null int64\n",
      "dtypes: datetime64[ns](2), float64(2), int64(2), object(2)\n",
      "memory usage: 456.5+ KB\n"
     ]
    }
   ],
   "source": [
    "restaurants.info()"
   ]
  },
  {
   "cell_type": "code",
   "execution_count": 146,
   "metadata": {},
   "outputs": [],
   "source": [
    "# Need to remove all 'DBA Name' with 'Aramark' and 'Guckenheimer' in the title \n",
    "#  --> corporate catering, not restaurants\n",
    "restaurants = restaurants.loc[~restaurants['DBA Name'].str.contains('Aramark')]\n",
    "restaurants = restaurants.loc[~restaurants['DBA Name'].str.contains('Guckenheimer')]"
   ]
  },
  {
   "cell_type": "code",
   "execution_count": null,
   "metadata": {},
   "outputs": [],
   "source": []
  },
  {
   "cell_type": "code",
   "execution_count": null,
   "metadata": {},
   "outputs": [],
   "source": []
  },
  {
   "cell_type": "code",
   "execution_count": null,
   "metadata": {},
   "outputs": [],
   "source": []
  },
  {
   "cell_type": "code",
   "execution_count": 139,
   "metadata": {},
   "outputs": [],
   "source": [
    "# Issues that still need to be addressed:\n",
    "# - Duplicates (different business ID number, but same business location)?\n",
    "# - Companies with vendors registered (not a proper restaurant)\n"
   ]
  },
  {
   "cell_type": "code",
   "execution_count": null,
   "metadata": {},
   "outputs": [],
   "source": []
  },
  {
   "cell_type": "code",
   "execution_count": null,
   "metadata": {},
   "outputs": [],
   "source": []
  },
  {
   "cell_type": "code",
   "execution_count": null,
   "metadata": {
    "scrolled": true
   },
   "outputs": [],
   "source": []
  },
  {
   "cell_type": "code",
   "execution_count": null,
   "metadata": {},
   "outputs": [],
   "source": []
  },
  {
   "cell_type": "code",
   "execution_count": null,
   "metadata": {},
   "outputs": [],
   "source": []
  },
  {
   "cell_type": "code",
   "execution_count": null,
   "metadata": {},
   "outputs": [],
   "source": []
  },
  {
   "cell_type": "code",
   "execution_count": null,
   "metadata": {},
   "outputs": [],
   "source": []
  },
  {
   "cell_type": "code",
   "execution_count": null,
   "metadata": {},
   "outputs": [],
   "source": []
  },
  {
   "cell_type": "code",
   "execution_count": null,
   "metadata": {},
   "outputs": [],
   "source": []
  },
  {
   "cell_type": "code",
   "execution_count": 151,
   "metadata": {},
   "outputs": [],
   "source": [
    "#Look into subset of 'Closed Restaurants'\n",
    "#closed_restaurants = \n",
    "#restaurants.loc[restaurants['Business End Date'].notnull()]"
   ]
  },
  {
   "cell_type": "code",
   "execution_count": null,
   "metadata": {},
   "outputs": [],
   "source": []
  },
  {
   "cell_type": "code",
   "execution_count": null,
   "metadata": {},
   "outputs": [],
   "source": []
  },
  {
   "cell_type": "code",
   "execution_count": null,
   "metadata": {},
   "outputs": [],
   "source": []
  },
  {
   "cell_type": "code",
   "execution_count": null,
   "metadata": {},
   "outputs": [],
   "source": []
  },
  {
   "cell_type": "code",
   "execution_count": null,
   "metadata": {},
   "outputs": [],
   "source": []
  },
  {
   "cell_type": "code",
   "execution_count": null,
   "metadata": {},
   "outputs": [],
   "source": []
  },
  {
   "cell_type": "code",
   "execution_count": null,
   "metadata": {},
   "outputs": [],
   "source": []
  },
  {
   "cell_type": "code",
   "execution_count": null,
   "metadata": {},
   "outputs": [],
   "source": []
  }
 ],
 "metadata": {
  "kernelspec": {
   "display_name": "Python 3",
   "language": "python",
   "name": "python3"
  },
  "language_info": {
   "codemirror_mode": {
    "name": "ipython",
    "version": 3
   },
   "file_extension": ".py",
   "mimetype": "text/x-python",
   "name": "python",
   "nbconvert_exporter": "python",
   "pygments_lexer": "ipython3",
   "version": "3.7.2"
  }
 },
 "nbformat": 4,
 "nbformat_minor": 2
}
