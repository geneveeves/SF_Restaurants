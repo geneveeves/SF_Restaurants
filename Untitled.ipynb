{
 "cells": [
  {
   "cell_type": "markdown",
   "metadata": {},
   "source": [
    "San Francisco - Registered Business Locations"
   ]
  },
  {
   "cell_type": "code",
   "execution_count": 1,
   "metadata": {},
   "outputs": [],
   "source": [
    "import numpy as np\n",
    "import pandas as pd"
   ]
  },
  {
   "cell_type": "code",
   "execution_count": 2,
   "metadata": {},
   "outputs": [
    {
     "name": "stderr",
     "output_type": "stream",
     "text": [
      "/anaconda3/lib/python3.7/site-packages/IPython/core/interactiveshell.py:3044: DtypeWarning: Columns (25) have mixed types. Specify dtype option on import or set low_memory=False.\n",
      "  interactivity=interactivity, compiler=compiler, result=result)\n"
     ]
    }
   ],
   "source": [
    "registered_businesses = pd.read_csv('Registered_Business_Locations_-_San_Francisco.csv')"
   ]
  },
  {
   "cell_type": "code",
   "execution_count": 4,
   "metadata": {
    "scrolled": true
   },
   "outputs": [
    {
     "name": "stdout",
     "output_type": "stream",
     "text": [
      "<class 'pandas.core.frame.DataFrame'>\n",
      "RangeIndex: 250047 entries, 0 to 250046\n",
      "Data columns (total 26 columns):\n",
      "Location Id                            250047 non-null object\n",
      "Business Account Number                250047 non-null int64\n",
      "Ownership Name                         250047 non-null object\n",
      "DBA Name                               250047 non-null object\n",
      "Street Address                         250043 non-null object\n",
      "City                                   249856 non-null object\n",
      "State                                  249431 non-null object\n",
      "Source Zipcode                         249782 non-null float64\n",
      "Business Start Date                    250047 non-null object\n",
      "Business End Date                      100363 non-null object\n",
      "Location Start Date                    250047 non-null object\n",
      "Location End Date                      125102 non-null object\n",
      "Mail Address                           14639 non-null object\n",
      "Mail City                              149654 non-null object\n",
      "Mail Zipcode                           149632 non-null object\n",
      "Mail State                             149630 non-null object\n",
      "NAICS Code                             155606 non-null object\n",
      "NAICS Code Description                 155606 non-null object\n",
      "Parking Tax                            250047 non-null bool\n",
      "Transient Occupancy Tax                250047 non-null bool\n",
      "LIC Code                               16642 non-null object\n",
      "LIC Code Description                   1367 non-null object\n",
      "Supervisor District                    147906 non-null float64\n",
      "Neighborhoods - Analysis Boundaries    147901 non-null object\n",
      "Business Corridor                      321 non-null object\n",
      "Business Location                      167333 non-null object\n",
      "dtypes: bool(2), float64(2), int64(1), object(21)\n",
      "memory usage: 46.3+ MB\n"
     ]
    }
   ],
   "source": [
    "registered_businesses.info()"
   ]
  },
  {
   "cell_type": "code",
   "execution_count": 5,
   "metadata": {},
   "outputs": [
    {
     "data": {
      "text/plain": [
       "{'Accommodations',\n",
       " 'Administrative and Support Services',\n",
       " 'Arts, Entertainment, and Recreation',\n",
       " 'Certain Services',\n",
       " 'Construction',\n",
       " 'Financial Services',\n",
       " 'Food Services',\n",
       " 'Information',\n",
       " 'Insurance',\n",
       " 'Manufacturing',\n",
       " 'Multiple',\n",
       " 'Private Education and Health Services',\n",
       " 'Professional, Scientific, and Technical Services',\n",
       " 'Real Estate and Rental and Leasing Services',\n",
       " 'Retail Trade',\n",
       " 'Transportation and Warehousing',\n",
       " 'Utilities',\n",
       " 'Wholesale Trade',\n",
       " nan}"
      ]
     },
     "execution_count": 5,
     "metadata": {},
     "output_type": "execute_result"
    }
   ],
   "source": [
    "#NAICS Code Description list\n",
    "set(registered_businesses['NAICS Code Description'])"
   ]
  },
  {
   "cell_type": "code",
   "execution_count": 8,
   "metadata": {},
   "outputs": [
    {
     "name": "stdout",
     "output_type": "stream",
     "text": [
      "<class 'pandas.core.frame.DataFrame'>\n",
      "Int64Index: 12768 entries, 15 to 250025\n",
      "Data columns (total 26 columns):\n",
      "Location Id                            12768 non-null object\n",
      "Business Account Number                12768 non-null int64\n",
      "Ownership Name                         12768 non-null object\n",
      "DBA Name                               12768 non-null object\n",
      "Street Address                         12768 non-null object\n",
      "City                                   12768 non-null object\n",
      "State                                  12764 non-null object\n",
      "Source Zipcode                         12685 non-null float64\n",
      "Business Start Date                    12768 non-null object\n",
      "Business End Date                      3128 non-null object\n",
      "Location Start Date                    12768 non-null object\n",
      "Location End Date                      4818 non-null object\n",
      "Mail Address                           1319 non-null object\n",
      "Mail City                              9640 non-null object\n",
      "Mail Zipcode                           9640 non-null object\n",
      "Mail State                             9638 non-null object\n",
      "NAICS Code                             12768 non-null object\n",
      "NAICS Code Description                 12768 non-null object\n",
      "Parking Tax                            12768 non-null bool\n",
      "Transient Occupancy Tax                12768 non-null bool\n",
      "LIC Code                               6149 non-null object\n",
      "LIC Code Description                   616 non-null object\n",
      "Supervisor District                    6158 non-null float64\n",
      "Neighborhoods - Analysis Boundaries    6158 non-null object\n",
      "Business Corridor                      21 non-null object\n",
      "Business Location                      6879 non-null object\n",
      "dtypes: bool(2), float64(2), int64(1), object(21)\n",
      "memory usage: 2.5+ MB\n"
     ]
    }
   ],
   "source": [
    "#Keep only 'Food Services' businesses for Restaurant List\n",
    "restaurants = registered_businesses.loc[registered_businesses['NAICS Code Description'] == 'Food Services']\n",
    "restaurants.info()"
   ]
  },
  {
   "cell_type": "code",
   "execution_count": 12,
   "metadata": {},
   "outputs": [],
   "source": [
    "#Keep only select columns of \"Restaurants\"\n",
    "restaurants = restaurants[['Location Id', 'DBA Name', 'Street Address', \n",
    "                           'City', 'State', 'Source Zipcode', \n",
    "                           'Location Start Date', 'Location End Date']]\n",
    "\n",
    "#Drop entries without a 'Source Zipcode'\n",
    "restaurants.dropna(subset=['Source Zipcode'], inplace=True)"
   ]
  },
  {
   "cell_type": "code",
   "execution_count": null,
   "metadata": {},
   "outputs": [],
   "source": []
  },
  {
   "cell_type": "code",
   "execution_count": 13,
   "metadata": {},
   "outputs": [
    {
     "name": "stdout",
     "output_type": "stream",
     "text": [
      "<class 'pandas.core.frame.DataFrame'>\n",
      "Int64Index: 12685 entries, 15 to 250025\n",
      "Data columns (total 8 columns):\n",
      "Location Id            12685 non-null object\n",
      "DBA Name               12685 non-null object\n",
      "Street Address         12685 non-null object\n",
      "City                   12685 non-null object\n",
      "State                  12684 non-null object\n",
      "Source Zipcode         12685 non-null float64\n",
      "Location Start Date    12685 non-null object\n",
      "Location End Date      4805 non-null object\n",
      "dtypes: float64(1), object(7)\n",
      "memory usage: 891.9+ KB\n"
     ]
    }
   ],
   "source": [
    "restaurants.info()"
   ]
  },
  {
   "cell_type": "code",
   "execution_count": null,
   "metadata": {},
   "outputs": [],
   "source": []
  },
  {
   "cell_type": "code",
   "execution_count": null,
   "metadata": {},
   "outputs": [],
   "source": []
  },
  {
   "cell_type": "code",
   "execution_count": null,
   "metadata": {},
   "outputs": [],
   "source": []
  },
  {
   "cell_type": "code",
   "execution_count": null,
   "metadata": {},
   "outputs": [],
   "source": []
  },
  {
   "cell_type": "code",
   "execution_count": null,
   "metadata": {},
   "outputs": [],
   "source": []
  },
  {
   "cell_type": "code",
   "execution_count": null,
   "metadata": {},
   "outputs": [],
   "source": []
  },
  {
   "cell_type": "code",
   "execution_count": null,
   "metadata": {},
   "outputs": [],
   "source": []
  },
  {
   "cell_type": "code",
   "execution_count": null,
   "metadata": {},
   "outputs": [],
   "source": []
  },
  {
   "cell_type": "code",
   "execution_count": null,
   "metadata": {},
   "outputs": [],
   "source": []
  }
 ],
 "metadata": {
  "kernelspec": {
   "display_name": "Python 3",
   "language": "python",
   "name": "python3"
  },
  "language_info": {
   "codemirror_mode": {
    "name": "ipython",
    "version": 3
   },
   "file_extension": ".py",
   "mimetype": "text/x-python",
   "name": "python",
   "nbconvert_exporter": "python",
   "pygments_lexer": "ipython3",
   "version": "3.7.2"
  }
 },
 "nbformat": 4,
 "nbformat_minor": 2
}
